{
 "cells": [
  {
   "cell_type": "markdown",
   "metadata": {},
   "source": [
    "## AWS EC2\n",
    "\n",
    "1. Import boto3 package \n",
    "2. Read *blockchain-nodes* profile found in ~.aws/credentials\n",
    "3. Create a EC2 session for instance creation"
   ]
  },
  {
   "cell_type": "code",
   "execution_count": null,
   "metadata": {
    "collapsed": true
   },
   "outputs": [],
   "source": [
    "import boto3\n",
    "import os\n",
    "\n",
    "\n",
    "session = boto3.Session(profile_name='blockchain-nodes')\n",
    "ec2 = session.resource('ec2')"
   ]
  },
  {
   "cell_type": "markdown",
   "metadata": {},
   "source": [
    "## Helper functions to find existing subnets and security group IDs.\n",
    "\n",
    "See AWS VPC notebook for creation of these resources."
   ]
  },
  {
   "cell_type": "code",
   "execution_count": null,
   "metadata": {
    "collapsed": true
   },
   "outputs": [],
   "source": [
    "def get_subnet_id(AVZONE=session.region_name+'b',\n",
    "                  subnet_type='public'):\n",
    "    \n",
    "    for vpc in ec2.vpcs.all():\n",
    "        for az in ec2.meta.client.describe_availability_zones()[\"AvailabilityZones\"]:\n",
    "            for subnet in vpc.subnets.filter(Filters=[{\"Name\": \"availabilityZone\", \"Values\": [az[\"ZoneName\"]]}]):\n",
    "                #print(vpc.id, az[\"ZoneName\"], subnet.id, subnet.tags[0]['Value'])\n",
    "                if (az[\"ZoneName\"] == AVZONE) & (subnet_type in subnet.tags[0]['Value']):\n",
    "                    return vpc.id, subnet.id\n",
    "\n",
    "def get_security_group_id(session,VPC_ID,SECURITYGROUP_NAME):\n",
    "    client = boto3.client(\"ec2\", region_name=session.region_name)\n",
    "    return client.describe_security_groups(Filters = [{\"Name\":\"vpc-id\",\n",
    "                                               \"Values\":[VPC_ID]\n",
    "                                               },{\n",
    "                                                \"Name\":\"group-name\",\n",
    "                                                \"Values\":[SECURITYGROUP_NAME]\n",
    "                                              }])\\\n",
    "                ['SecurityGroups'][0]['GroupId']"
   ]
  },
  {
   "cell_type": "markdown",
   "metadata": {},
   "source": [
    "## Create Network\n",
    "1. VPC\n",
    "2. InternetGateway\n",
    "3. Route Table\n",
    "4. Subnet\n",
    "5. Security Group"
   ]
  },
  {
   "cell_type": "code",
   "execution_count": null,
   "metadata": {
    "collapsed": true
   },
   "outputs": [],
   "source": [
    "KEY_NAME  =  \"blockchain-nodes-keypair\"\n",
    "KEY_DIRECTORY = \"/YOUR/KEY/DIRECTORY/\"\n",
    "\n",
    "SECURITYGROUP_NAME  =  \"blockchain-nodes-sg\"\n",
    "\n",
    "DATAVOLUME_NAME     =  \"YOUR BLOCKCHAIN Mainnet/PrivateNet/Testnet/Devnet Chain Data\"\n",
    "DATAVOLUME_SIZE     =  64\n",
    "\n",
    "INSTANCE_NAME = 'YOUR BLOCKCHAIN Mainnet/PrivateNet/Testnet/Devnet'\n",
    "Amazon_Ubuntu_AMI_18_04_LTS = 'ami-0d5d9d301c853a04a'  #ubuntu 18.04\n",
    "Instance_Type = 't2.micro' #micro=1GB, small=2GB, medium=4GB, large=8GB https://us-east-2.console.aws.amazon.com/ec2/v2/home?region=us-east-2#LaunchInstanceWizard:\n",
    "\n",
    "AVZONE = session.region_name+'b'\n",
    "VPC_ID, SUBNET_ID = get_subnet_id(AVZONE,\"public\")\n",
    "SECURITY_GROUP_ID = get_security_group_id(session,VPC_ID,SECURITYGROUP_NAME)"
   ]
  },
  {
   "cell_type": "markdown",
   "metadata": {},
   "source": [
    "## Create Key Pair for EC2 Instance\n",
    "\n",
    "* key pem files can be used multiple times; just create on for all EC2 instances"
   ]
  },
  {
   "cell_type": "code",
   "execution_count": null,
   "metadata": {
    "collapsed": true
   },
   "outputs": [],
   "source": [
    "file = KEY_DIRECTORY + KEY_NAME + '.pem'\n",
    "outfile = open(file,'w')\n",
    "\n",
    "# call the boto ec2 function to create a key pair\n",
    "key_pair = ec2.create_key_pair(KeyName=KEY_NAME)\n",
    "\n",
    "# capture the key and store it in a file\n",
    "KeyPairOut = str(key_pair.key_material)\n",
    "print(KeyPairOut)\n",
    "outfile.write(KeyPairOut)\n",
    "outfile.close()\n",
    "\n",
    "os.chmod(file,0o400)"
   ]
  },
  {
   "cell_type": "markdown",
   "metadata": {},
   "source": [
    "## Create Virtual Private Cloud (VPC)"
   ]
  },
  {
   "cell_type": "code",
   "execution_count": null,
   "metadata": {
    "collapsed": true
   },
   "outputs": [],
   "source": [
    "vpc = ec2.create_vpc(CidrBlock='10.1.0.0/16')\n",
    "\n",
    "vpc.create_tags(Tags=[{\"Key\": \"Name\", \"Value\": VPC_NAME}])\n",
    "\n",
    "vpc.wait_until_available()\n",
    "print(vpc.id)"
   ]
  },
  {
   "cell_type": "markdown",
   "metadata": {},
   "source": [
    "## Create and Attach Internet Gateway"
   ]
  },
  {
   "cell_type": "code",
   "execution_count": null,
   "metadata": {
    "collapsed": true
   },
   "outputs": [],
   "source": [
    "# create then attach internet gateway\n",
    "ig = ec2.create_internet_gateway()\n",
    "ig.create_tags(Tags=[{\"Key\": \"Name\", \"Value\": IGW_NAME}])\n",
    "vpc.attach_internet_gateway(InternetGatewayId=ig.id)\n",
    "print(ig.id)"
   ]
  },
  {
   "cell_type": "markdown",
   "metadata": {},
   "source": [
    "## Create a Route Table and a Public Route"
   ]
  },
  {
   "cell_type": "code",
   "execution_count": null,
   "metadata": {
    "collapsed": true
   },
   "outputs": [],
   "source": [
    "# create a route table and a public route\n",
    "route_table = vpc.create_route_table()\n",
    "route_table.create_tags(Tags=[{\"Key\": \"Name\", \"Value\": ROUTETABLE_NAME}])\n",
    "\n",
    "route = route_table.create_route(\n",
    "    DestinationCidrBlock='0.0.0.0/0',\n",
    "    GatewayId=ig.id\n",
    ")\n",
    "\n",
    "print(route_table.id)"
   ]
  },
  {
   "cell_type": "markdown",
   "metadata": {},
   "source": [
    "## Create subnets\n"
   ]
  },
  {
   "cell_type": "code",
   "execution_count": null,
   "metadata": {
    "collapsed": true
   },
   "outputs": [],
   "source": [
    "# create subnet\n",
    "# only associate public nets with route table\n",
    "\n",
    "subnet = ec2.create_subnet(CidrBlock='10.1.1.0/24', VpcId=vpc.id, AvailabilityZone=SUBNET+'a')\n",
    "subnet.create_tags(Tags=[{\"Key\": \"Name\", \"Value\": SUBNET_NAME + \"public\"}])\n",
    "# associate the route table with the subnet\n",
    "route_table.associate_with_subnet(SubnetId=subnet.id)\n",
    "\n",
    "print('subnet',subnet.id)"
   ]
  },
  {
   "cell_type": "markdown",
   "metadata": {},
   "source": [
    "## Create Security Group"
   ]
  },
  {
   "cell_type": "code",
   "execution_count": null,
   "metadata": {
    "collapsed": true
   },
   "outputs": [],
   "source": [
    "# Create security group\n",
    "sec_group = ec2.create_security_group(\n",
    "    GroupName=SECURITYGROUP_NAME, Description='Allow SSH, HTTP and HTTPS', VpcId=vpc.id)\n",
    "\n",
    "sec_group.authorize_ingress(\n",
    "    GroupId=sec_group.id,\n",
    "    IpPermissions=[\n",
    "        {'IpProtocol': 'tcp',\n",
    "         'FromPort': 80,\n",
    "         'ToPort': 80,\n",
    "         'IpRanges': [{'CidrIp': '0.0.0.0/0'}]},\n",
    "        {'IpProtocol': 'tcp',\n",
    "         'FromPort': 443,\n",
    "         'ToPort': 443,\n",
    "         'IpRanges': [{'CidrIp': '0.0.0.0/0'}]},\n",
    "        {'IpProtocol': 'tcp',\n",
    "         'FromPort': 22,\n",
    "         'ToPort': 22,\n",
    "         'IpRanges': [{'CidrIp': '0.0.0.0/0'}]}\n",
    "    ])\n",
    "\n",
    "sec_group.create_tags(Tags=[{\"Key\": \"Name\", \"Value\": SECURITYGROUP_NAME}])\n",
    "\n",
    "instance_security_group_id=sec_group.id\n",
    "\n",
    "print(sec_group.id)"
   ]
  }
 ],
 "metadata": {
  "kernelspec": {
   "display_name": "Python [conda env:res]",
   "language": "python",
   "name": "conda-env-res-py"
  },
  "language_info": {
   "codemirror_mode": {
    "name": "ipython",
    "version": 3
   },
   "file_extension": ".py",
   "mimetype": "text/x-python",
   "name": "python",
   "nbconvert_exporter": "python",
   "pygments_lexer": "ipython3",
   "version": "3.6.6"
  }
 },
 "nbformat": 4,
 "nbformat_minor": 2
}
