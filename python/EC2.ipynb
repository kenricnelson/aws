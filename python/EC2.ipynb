{
 "cells": [
  {
   "cell_type": "markdown",
   "metadata": {},
   "source": [
    "## AWS EC2\n",
    "\n",
    "1. Import boto3 package \n",
    "2. Read *blockchain-nodes* profile found in ~.aws/credentials\n",
    "3. Create a EC2 session for instance creation"
   ]
  },
  {
   "cell_type": "code",
   "execution_count": null,
   "metadata": {
    "collapsed": true
   },
   "outputs": [],
   "source": [
    "import boto3\n",
    "import os\n",
    "\n",
    "session = boto3.Session(profile_name='blockchain-nodes')\n",
    "ec2 = session.resource('ec2')"
   ]
  },
  {
   "cell_type": "markdown",
   "metadata": {},
   "source": [
    "## Helper functions to find existing subnets and security group IDs.\n",
    "\n",
    "See AWS VPC notebook for creation of these resources."
   ]
  },
  {
   "cell_type": "code",
   "execution_count": null,
   "metadata": {
    "collapsed": true
   },
   "outputs": [],
   "source": [
    "def get_subnet_id(AVZONE=session.region_name+'b',\n",
    "                  subnet_type='public'):\n",
    "    \n",
    "    for vpc in ec2.vpcs.all():\n",
    "        for az in ec2.meta.client.describe_availability_zones()[\"AvailabilityZones\"]:\n",
    "            for subnet in vpc.subnets.filter(Filters=[{\"Name\": \"availabilityZone\", \"Values\": [az[\"ZoneName\"]]}]):\n",
    "                #print(vpc.id, az[\"ZoneName\"], subnet.id, subnet.tags[0]['Value'])\n",
    "                if (az[\"ZoneName\"] == AVZONE) & (subnet_type in subnet.tags[0]['Value']):\n",
    "                    return vpc.id, subnet.id\n",
    "\n",
    "def get_security_group_id(session,VPC_ID,SECURITYGROUP_NAME):\n",
    "    client = boto3.client(\"ec2\", region_name=session.region_name)\n",
    "    return client.describe_security_groups(Filters = [{\"Name\":\"vpc-id\",\n",
    "                                               \"Values\":[VPC_ID]\n",
    "                                               },{\n",
    "                                                \"Name\":\"group-name\",\n",
    "                                                \"Values\":[SECURITYGROUP_NAME]\n",
    "                                              }])\\\n",
    "                ['SecurityGroups'][0]['GroupId']"
   ]
  },
  {
   "cell_type": "markdown",
   "metadata": {},
   "source": [
    "## Set Variables\n",
    "\n",
    "1. tags\n",
    "2. selecting key pair pem file\n",
    "3. vpc\n",
    "4. subnet\n",
    "5. IAM role\n",
    "6. security group\n",
    "7. availability zone\n",
    "8. instance type\n",
    "9. node disk size (Gb)\n"
   ]
  },
  {
   "cell_type": "code",
   "execution_count": null,
   "metadata": {
    "collapsed": true
   },
   "outputs": [],
   "source": [
    "BLOCKCHAIN_ID = \"YOUR_BLOCKCHAIN\"\n",
    "\n",
    "KEY_NAME  =  \"blockchain-nodes-keypair\"\n",
    "KEY_DIRECTORY = \"/YOUR/KEY/DIRECTORY/\"\n",
    "\n",
    "\n",
    "SECURITYGROUP_NAME  =  \"blockchain-nodes-sg\"\n",
    "\n",
    "DATAVOLUME_NAME     =  \"YOUR BLOCKCHAIN Mainnet/PrivateNet/Testnet/Devnet Chain Data\"\n",
    "DATAVOLUME_SIZE     =  100\n",
    "\n",
    "INSTANCE_NAME = 'YOUR BLOCKCHAIN Mainnet/PrivateNet/Testnet/Devnet'\n",
    "Amazon_Ubuntu_AMI_18_04_LTS = 'ami-0d5d9d301c853a04a'\n",
    "Instance_Type = 't2.micro' #micro=1GB, small=2GB, medium=4GB, large=8GB https://us-east-2.console.aws.amazon.com/ec2/v2/home?region=us-east-2#LaunchInstanceWizard:\n",
    "\n",
    "IAM_ROLE = \"blockchain-node-role\"\n",
    "\n",
    "AVZONE = session.region_name+'b'\n",
    "VPC_ID, SUBNET_ID = get_subnet_id(AVZONE,\"public\")\n",
    "SECURITY_GROUP_ID = get_security_group_id(session,VPC_ID,SECURITYGROUP_NAME)"
   ]
  },
  {
   "cell_type": "markdown",
   "metadata": {},
   "source": [
    "## Create EC2 Instance\n",
    "\n",
    "User data for ubuntu server initialization, see each blockchain repo for USERDATA specific to each node.\n"
   ]
  },
  {
   "cell_type": "code",
   "execution_count": null,
   "metadata": {
    "collapsed": true
   },
   "outputs": [],
   "source": [
    "USERDATA = '''#!/bin/bash\n",
    "sudo apt-get update\n",
    "\n",
    "sudo mkfs -t xfs /dev/xvdf\n",
    "sudo mkdir /data\n",
    "sudo mount /dev/xvdf /data\n",
    "sudo chown -R ubuntu:ubuntu /data\n",
    "\n",
    "export CHAIN_DATA=/data/{BLOCKCHAIN_ID}\n",
    "echo 'export CHAIN_DATA=/data/{BLOCKCHAIN_ID}'  >> /home/ubuntu/.bashrc\n",
    "\n",
    "export PATH=$PATH:$CHAIN_DATA\n",
    "echo 'export PATH=$PATH:/data/{BLOCKCHAIN_ID}'  >> /home/ubuntu/.bashrc\n",
    "\n",
    "source ~/.bashrc\n",
    "\n",
    "mkdir $CHAIN_DATA\n",
    "sudo chown -R ubuntu:ubuntu /data\n",
    "\n",
    "sudo apt-get update\n",
    "sudo apt-get install -y python3-pip\n",
    "\n",
    "'''.format(BLOCKCHAIN_ID=BLOCKCHAIN_ID)\n",
    "\n",
    "instances = ec2.create_instances(\n",
    "    ImageId=Amazon_Ubuntu_AMI_18_04_LTS,\n",
    "    MinCount=1,\n",
    "    MaxCount=1,\n",
    "    UserData=USERDATA,\n",
    "    IamInstanceProfile={\n",
    "        'Name': IAM_ROLE\n",
    "    },\n",
    "    BlockDeviceMappings=[\n",
    "        {\n",
    "            'DeviceName': '/dev/xvdf',\n",
    "            'Ebs': {\n",
    "                'DeleteOnTermination': True,\n",
    "                'VolumeSize': DATAVOLUME_SIZE,\n",
    "                'VolumeType': 'gp2'\n",
    "            },\n",
    "        },\n",
    "    ],\n",
    "    InstanceType=Instance_Type,\n",
    "    KeyName=KEY_NAME,\n",
    "    Placement={'AvailabilityZone':AVZONE},\n",
    "    TagSpecifications=[\n",
    "        {\n",
    "            'ResourceType': 'instance',\n",
    "            'Tags': [\n",
    "                {\n",
    "                    'Key': 'Name',\n",
    "                    'Value': INSTANCE_NAME\n",
    "                },\n",
    "            ]\n",
    "        },\n",
    "    ],\n",
    "    NetworkInterfaces=[{'SubnetId': SUBNET_ID, \n",
    "                     'DeviceIndex': 0, \n",
    "                     'AssociatePublicIpAddress': True, \n",
    "                     'Groups': [SECURITY_GROUP_ID]}])"
   ]
  }
 ],
 "metadata": {
  "kernelspec": {
   "display_name": "Python [conda env:res]",
   "language": "python",
   "name": "conda-env-res-py"
  },
  "language_info": {
   "codemirror_mode": {
    "name": "ipython",
    "version": 3
   },
   "file_extension": ".py",
   "mimetype": "text/x-python",
   "name": "python",
   "nbconvert_exporter": "python",
   "pygments_lexer": "ipython3",
   "version": "3.6.6"
  }
 },
 "nbformat": 4,
 "nbformat_minor": 2
}
